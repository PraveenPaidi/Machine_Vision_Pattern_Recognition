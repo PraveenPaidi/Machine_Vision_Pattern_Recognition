{
 "cells": [
  {
   "cell_type": "code",
   "execution_count": 13,
   "id": "eba229dc",
   "metadata": {},
   "outputs": [
    {
     "name": "stdout",
     "output_type": "stream",
     "text": [
      "Images generated and saved successfully.\n"
     ]
    }
   ],
   "source": [
    "from PIL import Image, ImageDraw, ImageOps\n",
    "import random\n",
    "import os\n",
    "import numpy as np\n",
    "\n",
    "# Create a directory to save the images\n",
    "os.makedirs('colored_squares_dataset', exist_ok=True)\n",
    "\n",
    "for i in range(100000):\n",
    "    \n",
    "    # Create a black background\n",
    "    image = Image.new('RGB',  (64, 64), 'black')\n",
    "    \n",
    "    # Generate random properties of the square\n",
    "    size = random.randint(10, 40)  # Random size between 10 and 40 pixels\n",
    "    x = random.randint(0, 64 - size)  # Adjusted for the image size and square size\n",
    "    y = random.randint(0, 64 - size)  # Adjusted for the image size and square size\n",
    "    a, b, c = np.random.randint(0, 255, 3)\n",
    "    color = (a, b, c)\n",
    "    angle = random.randint(0, 90)\n",
    "    \n",
    "    # Draw the square on the black background\n",
    "    draw = ImageDraw.Draw(image)\n",
    "    draw.rectangle([(x, y), (x + size, y + size)], fill=color)\n",
    "    \n",
    "    # Rotate the image\n",
    "    rotated_image = image.rotate(angle, expand=True)\n",
    "    \n",
    "    # Save the image\n",
    "    rotated_image.save(f'colored_squares_dataset/image_{i}.png')\n",
    "\n",
    "print(\"Images generated and saved successfully.\")\n"
   ]
  },
  {
   "cell_type": "code",
   "execution_count": 10,
   "id": "f1e2f552",
   "metadata": {},
   "outputs": [
    {
     "data": {
      "image/png": "[encoded data removed]",
      "text/plain": [
       "<Figure size 400x400 with 20 Axes>"
      ]
     },
     "metadata": {},
     "output_type": "display_data"
    }
   ],
   "source": [
    "from PIL import Image\n",
    "import matplotlib.pyplot as plt\n",
    "import os\n",
    "\n",
    "# Path to the directory containing the generated images\n",
    "image_dir = 'colored_squares_dataset'\n",
    "\n",
    "# Get a list of image files in the directory\n",
    "image_files = [f for f in os.listdir(image_dir) if f.endswith('.png')]\n",
    "\n",
    "# Display 20 images in a grid\n",
    "num_images_to_display = 20\n",
    "num_rows = 4\n",
    "num_cols = 5\n",
    "\n",
    "fig, axes = plt.subplots(num_rows, num_cols, figsize=(4, 4))\n",
    "\n",
    "for i, ax in enumerate(axes.flat):\n",
    "    if i < num_images_to_display:\n",
    "        image_path = os.path.join(image_dir, image_files[i])\n",
    "        img = Image.open(image_path)\n",
    "        ax.imshow(img)\n",
    "        ax.axis('off')\n",
    "    else:\n",
    "        ax.axis('off')\n",
    "\n",
    "plt.tight_layout()\n",
    "plt.show()\n"
   ]
  },
  {
   "cell_type": "code",
   "execution_count": null,
   "id": "7974823e",
   "metadata": {},
   "outputs": [],
   "source": []
  },
  {
   "cell_type": "code",
   "execution_count": null,
   "id": "43ea4c82",
   "metadata": {},
   "outputs": [],
   "source": []
  },
  {
   "cell_type": "code",
   "execution_count": null,
   "id": "ec00cdf8",
   "metadata": {},
   "outputs": [],
   "source": []
  }
 ],
 "metadata": {
  "kernelspec": {
   "display_name": "Python 3 (ipykernel)",
   "language": "python",
   "name": "python3"
  },
  "language_info": {
   "codemirror_mode": {
    "name": "ipython",
    "version": 3
   },
   "file_extension": ".py",
   "mimetype": "text/x-python",
   "name": "python",
   "nbconvert_exporter": "python",
   "pygments_lexer": "ipython3",
   "version": "3.9.13"
  }
 },
 "nbformat": 4,
 "nbformat_minor": 5
}
