{
 "cells": [
  {
   "cell_type": "code",
   "execution_count": 47,
   "id": "a5cf292b",
   "metadata": {},
   "outputs": [],
   "source": [
    "import cv2\n",
    "import numpy as np\n",
    "import copy\n",
    "import sys\n",
    "\n",
    "def harris_corner_detector(image, k, threshold):   #1500000000000000\n",
    "    \n",
    "        \n",
    "    ''' 1st step : providing image to calculate the gradients in x and y direction.\n",
    "    passing sobel kernel of size 5 to calculate and cv2.CV_64F is the output type'''\n",
    "    \n",
    "    I_x = cv2.Sobel(image, cv2.CV_64F, 1, 0, ksize=5)\n",
    "    I_y = cv2.Sobel(image, cv2.CV_64F, 0, 1, ksize=5)\n",
    "\n",
    "    ''' 2nd step , taking the mean out '''\n",
    "    mean_I_x = np.mean(I_x)\n",
    "    I_x -= mean_I_x\n",
    "    mean_I_y = np.mean(I_y)\n",
    "    I_y -= mean_I_y\n",
    "\n",
    "    ''' 3rd step , computing the covariance matrix '''\n",
    "    # computing the covariance matrix\n",
    "    I_x2 = I_x ** 2\n",
    "    I_y2 = I_y ** 2\n",
    "    I_xy = I_x * I_y\n",
    "\n",
    "    \n",
    "    ''' 4th step calculting eigen values and eigen vectors for M matrix '''\n",
    "    height, width= image.shape\n",
    "    window_size = 5\n",
    "\n",
    "    offset = window_size // 2\n",
    "\n",
    "    R = np.zeros_like(image, dtype=np.float32)\n",
    "\n",
    "    for y in range(offset, height - offset):\n",
    "        for x in range(offset, width - offset):\n",
    "            window_I_x2 = I_x2[y - offset:y + offset + 1, x - offset:x + offset + 1]\n",
    "            window_I_y2 = I_y2[y - offset:y + offset + 1, x - offset:x + offset + 1]\n",
    "            window_I_xy = I_xy[y - offset:y + offset + 1, x - offset:x + offset + 1]\n",
    "\n",
    "            M = np.array([[np.sum(window_I_x2), np.sum(window_I_xy)],\n",
    "                          [np.sum(window_I_xy), np.sum(window_I_y2)]], dtype=np.float32)\n",
    "            \n",
    "            eigvals = np.linalg.eigvals(M)\n",
    "\n",
    "            R[y, x] = min(eigvals) * max(eigvals) - k * ((min(eigvals) + max(eigvals))**2)\n",
    "\n",
    "    '''5th step corners finding my applying the thresshold as 1000 '''\n",
    "    corners = (R > threshold).nonzero()\n",
    "    return corners, R\n",
    "\n",
    "\n",
    "def ANMS(img, img_h, n_best, coords):\n",
    "    # list length of corners\n",
    "    ''' img being the original image, img_h being the liikelihood matrix of the harris corners'''\n",
    "    num = len(coords)\n",
    "    inf = sys.maxsize\n",
    "    r = inf * np.ones((num,3))\n",
    "    ED = 0\n",
    "    \n",
    "    for i in range(num):\n",
    "        for j in range(num):\n",
    "            # taking one corner at a time.\n",
    "            x_i = coords[i][0]            \n",
    "            y_i = coords[i][1]            \n",
    "            \n",
    "            # comparing with all other corners.\n",
    "            neighbours_x = coords[j][0]  \n",
    "            neighbours_y = coords[j][1]\n",
    "            \n",
    "            \n",
    "            ''' taking the local maxima likelihood'''\n",
    "            if img_h[y_i,x_i] > img_h[neighbours_y,neighbours_x]:\n",
    "                ED = (neighbours_x - x_i)**2 + (neighbours_y - y_i)**2\n",
    "\n",
    "            if ED < r[i,0]:\n",
    "                r[i,0] = ED\n",
    "                r[i,1] = x_i\n",
    "                r[i,2] = y_i\n",
    "\n",
    "    arr = r[:,0]\n",
    "    #We get the index of biggest that is the reason of -ve sign(Descending order index)\n",
    "    feature_sorting = np.argsort(-arr)  \n",
    "    feature_cord = r[feature_sorting]\n",
    "    #We also can is find min of(n_best, num_of_feature_cordinates we got)\n",
    "    Nbest_corners = feature_cord[:n_best,:]   \n",
    "    \n",
    "    return Nbest_corners\n",
    "\n",
    "\n",
    "\n",
    "def feature_descriptors(img, corners,n_best,patch_size):\n",
    "    ''' sending the corner list and the image and the corner coordinates'''\n",
    "    n_descriptors = []\n",
    "    x = corners[:,1]\n",
    "    y = corners[:,2]\n",
    "\n",
    "    for i in range(n_best):\n",
    "        y_i = x[i]         \n",
    "        x_i = y[i]\n",
    "        gray = copy.deepcopy(img)\n",
    "        \n",
    "        #pad the image by 40 on all sides\n",
    "        gray = np.pad(img, ((patch_size,patch_size), (patch_size,patch_size)), mode='constant', constant_values=0)\n",
    "        x_start = int(x_i + patch_size/2)\n",
    "        y_start = int(y_i + patch_size/2)\n",
    "\n",
    "        # creating feature descriptor 40x40 descriptor of one point\n",
    "        descriptor = gray[x_start:x_start+patch_size, y_start:y_start+patch_size] \n",
    "        \n",
    "        # Applying gaussian blur on the descriptor\n",
    "        descriptor = cv2.GaussianBlur(descriptor, (7,7), cv2.BORDER_DEFAULT) \n",
    "               \n",
    "        # Sub sampling to 8x8   \n",
    "        sub =5\n",
    "        descriptor = descriptor[::sub,::sub]  \n",
    "               \n",
    "        descriptor1 = descriptor.reshape((64,1))\n",
    "                \n",
    "        std = descriptor1.std()\n",
    "        \n",
    "        if std< 0.00000001:\n",
    "            std = 0.000001\n",
    "\n",
    "        # to remove illumination invariance.\n",
    "        descriptor_standard = (descriptor1 - descriptor1.mean())/std\n",
    "            \n",
    "        n_descriptors.append(descriptor_standard)\n",
    "\n",
    "    return n_descriptors\n",
    "\n",
    "\n",
    "\n",
    "def feature_matching(Descriptors_image1, Descriptors_image2, corners1,corners2, match_ratio):\n",
    "    f1 = Descriptors_image1\n",
    "    f2 = Descriptors_image2\n",
    "    \n",
    "    matched_pairs = []\n",
    "    for i in range(0, len(f1)):\n",
    "        sqr_diff = []\n",
    "        for j in range(0, len(f2)):\n",
    "            # comparing each corner to every other corner in next image by taking the difference between the descriptors\n",
    "            diff = np.sum((f1[i] - f2[j])**2)\n",
    "            sqr_diff.append(diff)\n",
    "        # converting  into array  \n",
    "        sqr_diff = np.array(sqr_diff)\n",
    "        diff_sort = np.argsort(sqr_diff)\n",
    "        sqr_diff_sorted = sqr_diff[diff_sort]\n",
    "        \n",
    "        if (sqr_diff_sorted[1])==0:\n",
    "            sqr_diff_sorted[1] = 0.00001\n",
    "            \n",
    "        # applying lowe's algorithm to check the matching \n",
    "        ratio = sqr_diff_sorted[0]/(sqr_diff_sorted[1])\n",
    "        \n",
    "        if ratio < match_ratio :\n",
    "            matched_pairs.append((corners1[i,1:3], corners2[diff_sort[0],1:3]))\t\n",
    "\n",
    "    return matched_pairs\n",
    "\n",
    "def dot_product(h_mat, keypoint):\n",
    "\tkeypoint = np.expand_dims(keypoint, 1)\n",
    "\tkeypoint = np.vstack([keypoint, 1])\n",
    "\tproduct = np.dot(h_mat, keypoint)\n",
    "\tif product[2]!=0:\n",
    "\t\tproduct = product/product[2]\n",
    "\telse:\n",
    "\t\tproduct = product/0.000001\n",
    "\t# print(product)\n",
    "\treturn product[0:2,:]\n",
    "\n",
    "def homography(point1, point2):\n",
    "    h_matrix  = cv2.getPerspectiveTransform(np.float32(point1), np.float32(point2))\n",
    "    return h_matrix\n",
    "\n",
    "def ransac(matched_pairs, threshold):\n",
    "\n",
    "    inliers = []   #to store ssd's and corresponding homography matrices\n",
    "    COUNT = []\n",
    "    for i in range(1000):    #Nmax iterations\n",
    "\n",
    "        keypoints_1 = [x[0] for x in matched_pairs]\n",
    "        keypoints_2 = [x[1] for x in matched_pairs]\n",
    "        length = len(keypoints_1)\n",
    "\n",
    "        randomlist = random.sample(range(0, length), 4)\n",
    "        points_1 = [keypoints_1[idx] for idx in randomlist]\n",
    "        points_2 = [keypoints_2[idx] for idx in randomlist]\n",
    "\n",
    "        h_matrix = homography(points_1, points_2)\n",
    "        # print(h_matrix)\n",
    "        points = []\n",
    "        count_inliers = 0\n",
    "        for i in range(length):\n",
    "            a = (np.array(keypoints_2[i]))\n",
    "            # ssd = np.sum((np.expand_dims(np.array(keypoints_2[i]), 1) - dot_product(h_matrix, keypoints_1[i]))**2)\n",
    "            ssd = np.linalg.norm(np.expand_dims(np.array(keypoints_2[i]), 1) - dot_product(h_matrix, keypoints_1[i]))\n",
    "            # print(\"ssd\",ssd)\n",
    "            if ssd < threshold:\n",
    "                count_inliers += 1\n",
    "                points.append((keypoints_1[i], keypoints_2[i]))\n",
    "        COUNT.append(-count_inliers)\n",
    "        inliers.append((h_matrix, points))\n",
    "    max_count_idx = np.argsort(COUNT)\n",
    "    max_count_idx = max_count_idx[0]\n",
    "    final_matched_pairs = inliers[max_count_idx][1]\n",
    "    # print(\"Matched pairs\", len(final_matched_pairs))\n",
    "\n",
    "    pts_1 = [x[0] for x in final_matched_pairs]\n",
    "    pts_2 = [x[1] for x in final_matched_pairs]\n",
    "    h_final_matrix, status = cv2.findHomography(np.float32(pts_1),np.float32(pts_2))\n",
    "    # print(h_final_matrix)\n",
    "    return h_final_matrix, final_matched_pairs"
   ]
  },
  {
   "cell_type": "code",
   "execution_count": 48,
   "id": "4275a69c",
   "metadata": {},
   "outputs": [],
   "source": [
    "# Load an image\n",
    "\n",
    "image1=cv2.imread(r'..\\Prob 5\\warp.jpg',cv2.IMREAD_GRAYSCALE)\n",
    "image2 = cv2.imread(r'..\\Prob 5\\3.jpg', cv2.IMREAD_GRAYSCALE)\n",
    "\n",
    "img1 = copy.deepcopy(image1)\n",
    "img2 = copy.deepcopy(image2)\n"
   ]
  },
  {
   "cell_type": "code",
   "execution_count": 52,
   "id": "fb189064",
   "metadata": {},
   "outputs": [],
   "source": [
    "# Detect corners using harris corners \n",
    "corners1,R1 = harris_corner_detector(img1,k=0.04,threshold=2500000000000000)\n",
    "corners2,R2 = harris_corner_detector(img2,k=0.04,threshold=1500000000000000)\n",
    "\n",
    "corner_list1=[]\n",
    "corner_list2=[]\n",
    "\n",
    "    \n",
    "image1=cv2.imread(r'..\\Prob 5\\warp.jpg')\n",
    "image2 = cv2.imread(r'..\\Prob 5\\3.jpg')\n",
    "\n",
    "# Display or save the result\n",
    "cv2.imwrite('Harris Corners Orig.jpg', image1)\n",
    "cv2.imwrite('Harris Corners Roatated.jpg', image2)\n",
    "\n",
    "# Draw corners on the image\n",
    "for x, y in zip(corners1[1], corners1[0]):\n",
    "    cv2.circle(img1, (x, y), 2, 100, -1)\n",
    "    corner_list1.append((x,y))\n",
    "    \n",
    "for x, y in zip(corners2[1], corners2[0]):\n",
    "    cv2.circle(img2, (x, y), 2, 100, -1)\n",
    "    corner_list2.append((x,y))\n",
    "\n"
   ]
  },
  {
   "cell_type": "code",
   "execution_count": 53,
   "id": "d2635731",
   "metadata": {},
   "outputs": [
    {
     "data": {
      "text/plain": [
       "20286"
      ]
     },
     "execution_count": 53,
     "metadata": {},
     "output_type": "execute_result"
    }
   ],
   "source": [
    "len(corner_list1)"
   ]
  },
  {
   "cell_type": "code",
   "execution_count": 54,
   "id": "e14c6b7b",
   "metadata": {},
   "outputs": [
    {
     "data": {
      "text/plain": [
       "18716"
      ]
     },
     "execution_count": 54,
     "metadata": {},
     "output_type": "execute_result"
    }
   ],
   "source": [
    "len(corner_list2)"
   ]
  },
  {
   "cell_type": "code",
   "execution_count": null,
   "id": "4bd15914",
   "metadata": {},
   "outputs": [],
   "source": []
  },
  {
   "cell_type": "code",
   "execution_count": 55,
   "id": "31d479a1",
   "metadata": {},
   "outputs": [
    {
     "data": {
      "text/plain": [
       "True"
      ]
     },
     "execution_count": 55,
     "metadata": {},
     "output_type": "execute_result"
    }
   ],
   "source": [
    "image1=cv2.imread(r'..\\Prob 5\\warp.jpg')\n",
    "image2 = cv2.imread(r'..\\Prob 5\\3.jpg')\n",
    "\n",
    "img1 = copy.deepcopy(image1)\n",
    "img2 = copy.deepcopy(image2)\n",
    "\n",
    "# Adaptive Non Max Supression\n",
    "n_best =1000\n",
    "Best_corners1 = ANMS(img1, R1, n_best, corner_list1 )\n",
    "\n",
    "for i in range(len(Best_corners1)):\n",
    "    cv2.circle(img1, (int(Best_corners1[i][1]),int(Best_corners1[i][2])), 3, 100, -1)\n",
    "cv2.imwrite('Anms1.jpg', img1)\n",
    "\n",
    "Best_corners2 = ANMS(img2, R2, n_best, corner_list2 )\n",
    "\n",
    "for i in range(len(Best_corners2)):\n",
    "    cv2.circle(img2, (int(Best_corners2[i][1]),int(Best_corners2[i][2])), 3, 100, -1)\n",
    "cv2.imwrite(\"anms2.png\",img2)"
   ]
  },
  {
   "cell_type": "code",
   "execution_count": null,
   "id": "8e69ba12",
   "metadata": {},
   "outputs": [],
   "source": []
  },
  {
   "cell_type": "code",
   "execution_count": 56,
   "id": "68068a29",
   "metadata": {},
   "outputs": [],
   "source": [
    "image1=cv2.imread(r'..\\Prob 5\\warp.jpg',cv2.IMREAD_GRAYSCALE)\n",
    "image2 = cv2.imread(r'..\\Prob 5\\3.jpg', cv2.IMREAD_GRAYSCALE)\n",
    "\n",
    "img1 = copy.deepcopy(image1)\n",
    "img2 = copy.deepcopy(image2)\n",
    "\n",
    "# applying SIFT to get the feature descriptors \n",
    "patch_size= 40\n",
    "Descriptors_image1= feature_descriptors(img1, Best_corners1, n_best, patch_size)\n",
    "Descriptors_image2= feature_descriptors(img2, Best_corners2, n_best, patch_size)\n",
    "\n",
    "matched_pairs= feature_matching(Descriptors_image1, Descriptors_image2, Best_corners1,Best_corners2, match_ratio=0.6)"
   ]
  },
  {
   "cell_type": "code",
   "execution_count": 57,
   "id": "10f1a688",
   "metadata": {},
   "outputs": [
    {
     "data": {
      "text/plain": [
       "[(array([1654., 1321.]), array([164., 824.])),\n",
       " (array([  6., 650.]), array([317., 812.])),\n",
       " (array([1555., 1198.]), array([ 91., 695.])),\n",
       " (array([  17., 2036.]), array([312., 798.])),\n",
       " (array([  4., 566.]), array([317., 812.])),\n",
       " (array([1745., 1287.]), array([281., 787.])),\n",
       " (array([  8., 924.]), array([317., 812.])),\n",
       " (array([1755., 1379.]), array([275., 875.])),\n",
       " (array([1727., 1427.]), array([235., 925.])),\n",
       " (array([1624., 1444.]), array([126., 949.])),\n",
       " (array([1663., 1409.]), array([169., 913.])),\n",
       " (array([1754., 1217.]), array([293., 718.])),\n",
       " (array([1673., 1445.]), array([178., 946.])),\n",
       " (array([1533., 1155.]), array([ 65., 645.])),\n",
       " (array([1378., 1592.]), array([959., 932.])),\n",
       " (array([  21., 1383.]), array([324., 818.])),\n",
       " (array([1640., 1425.]), array([140., 926.])),\n",
       " (array([1778., 1374.]), array([304., 866.])),\n",
       " (array([1648., 1453.]), array([150., 956.])),\n",
       " (array([1830., 1344.]), array([341., 804.])),\n",
       " (array([  2., 323.]), array([317., 812.])),\n",
       " (array([1796., 1243.]), array([325., 741.])),\n",
       " (array([1756., 1628.]), array([ 230., 1115.])),\n",
       " (array([1576., 1202.]), array([113., 700.])),\n",
       " (array([1766., 1404.]), array([274., 897.])),\n",
       " (array([  27., 1955.]), array([324., 818.])),\n",
       " (array([1801., 1323.]), array([324., 818.])),\n",
       " (array([1834., 1225.]), array([356., 724.])),\n",
       " (array([1707., 1302.]), array([240., 800.])),\n",
       " (array([1434., 1286.]), array([292., 877.])),\n",
       " (array([1646., 1380.]), array([155., 882.])),\n",
       " (array([1734., 1442.]), array([241., 937.])),\n",
       " (array([  18., 2071.]), array([312., 798.])),\n",
       " (array([1790., 1145.]), array([315., 648.])),\n",
       " (array([1603., 1207.]), array([139., 705.])),\n",
       " (array([1517., 1285.]), array([ 35., 790.])),\n",
       " (array([1839., 1256.]), array([359., 753.])),\n",
       " (array([ 545., 1703.]), array([761., 843.])),\n",
       " (array([  5., 405.]), array([319., 817.])),\n",
       " (array([1739., 1228.]), array([276., 727.])),\n",
       " (array([  25., 1701.]), array([324., 818.])),\n",
       " (array([1821., 1194.]), array([338., 697.])),\n",
       " (array([1826., 1150.]), array([349., 656.])),\n",
       " (array([ 407., 1424.]), array([536., 795.])),\n",
       " (array([1763., 1370.]), array([281., 865.])),\n",
       " (array([  15., 1950.]), array([312., 798.])),\n",
       " (array([ 555., 1698.]), array([766., 841.])),\n",
       " (array([1633., 1190.]), array([171., 686.])),\n",
       " (array([  10., 1504.]), array([312., 798.])),\n",
       " (array([  16., 1486.]), array([   3., 1134.])),\n",
       " (array([1839., 1343.]), array([351., 835.])),\n",
       " (array([1862., 1362.]), array([370., 853.])),\n",
       " (array([  2., 231.]), array([317., 812.])),\n",
       " (array([1767., 1439.]), array([272., 930.])),\n",
       " (array([1848., 1360.]), array([358., 850.])),\n",
       " (array([1795., 1317.]), array([319., 817.])),\n",
       " (array([1794., 1339.]), array([320., 836.])),\n",
       " (array([  16., 2047.]), array([312., 798.])),\n",
       " (array([1563., 1200.]), array([ 97., 697.])),\n",
       " (array([  4., 288.]), array([319., 817.])),\n",
       " (array([1658., 1403.]), array([167., 908.])),\n",
       " (array([1544., 1193.]), array([ 78., 690.])),\n",
       " (array([1874., 1185.]), array([393., 690.])),\n",
       " (array([ 271., 1515.]), array([766., 841.])),\n",
       " (array([ 190., 1342.]), array([929., 813.])),\n",
       " (array([1789., 1266.]), array([318., 765.])),\n",
       " (array([1798., 1269.]), array([325., 766.])),\n",
       " (array([1842., 1378.]), array([354., 868.])),\n",
       " (array([1670., 1427.]), array([174., 927.])),\n",
       " (array([1804., 1345.]), array([328., 837.])),\n",
       " (array([1798., 1349.]), array([320., 843.])),\n",
       " (array([  14., 1989.]), array([312., 798.])),\n",
       " (array([  12., 1373.]), array([315., 776.])),\n",
       " (array([ 238., 1337.]), array([947., 915.])),\n",
       " (array([1733., 1435.]), array([238., 932.])),\n",
       " (array([1752., 1287.]), array([291., 783.])),\n",
       " (array([1815., 1250.]), array([764., 956.]))]"
      ]
     },
     "execution_count": 57,
     "metadata": {},
     "output_type": "execute_result"
    }
   ],
   "source": [
    "matched_pairs"
   ]
  },
  {
   "cell_type": "code",
   "execution_count": 58,
   "id": "42d421fb",
   "metadata": {},
   "outputs": [],
   "source": [
    "import random\n",
    "final_h_mat, final_matched = ransac(matched_pairs, threshold=3)"
   ]
  },
  {
   "cell_type": "code",
   "execution_count": 59,
   "id": "093682b2",
   "metadata": {},
   "outputs": [],
   "source": [
    "final_matched = [(a.astype(int), b.astype(int)) for a, b in final_matched]\n",
    "final_matched\n",
    "img1 = copy.deepcopy(image1)\n",
    "img2 = copy.deepcopy(image2)\n",
    "def keypoint(points):\n",
    "\tkp1 = []\n",
    "\tfor i in range(len(points)):\n",
    "\t\tkp1.append(cv2.KeyPoint(int(points[i][0]), int(points[i][1]), 3))\n",
    "\treturn kp1\n",
    "\n",
    "def matches(points):\n",
    "\tm = []\n",
    "\tfor i in range(len(points)):\n",
    "\t\tm.append(cv2.DMatch(int(points[i][0]), int(points[i][1]), 2))\n",
    "\treturn m"
   ]
  },
  {
   "cell_type": "code",
   "execution_count": 60,
   "id": "2a674378",
   "metadata": {},
   "outputs": [],
   "source": [
    "def draw_matches(img1,img2, matched_pairs):\n",
    "\tkey_points_1 = [x[0] for x in matched_pairs]\n",
    "\tkeypoints1 = keypoint(key_points_1)\n",
    "\tkey_points_2 = [x[1] for x in matched_pairs]\n",
    "\tkeypoints2 = keypoint(key_points_2)\n",
    "\tmatched_pairs_idx = [(i,i) for i,j in enumerate(matched_pairs)]\n",
    "\tmatches1to2 = matches(matched_pairs_idx)\n",
    "\tout = cv2.drawMatches(img1, keypoints1, img2, keypoints2, matches1to2, None, flags =2)\n",
    "\tcv2.imwrite('out.jpg',out)"
   ]
  },
  {
   "cell_type": "code",
   "execution_count": 61,
   "id": "285e30fa",
   "metadata": {},
   "outputs": [],
   "source": [
    "draw_matches(img1,img2, final_matched)"
   ]
  },
  {
   "cell_type": "code",
   "execution_count": 62,
   "id": "eba9c7a0",
   "metadata": {},
   "outputs": [
    {
     "data": {
      "text/plain": [
       "True"
      ]
     },
     "execution_count": 62,
     "metadata": {},
     "output_type": "execute_result"
    }
   ],
   "source": [
    "matched_pairs_idx = [(i,i) for i,j in enumerate(final_matched)]\n",
    "matches1to2 = matches(matched_pairs_idx)\n",
    "keypoints1 = [x[0] for x in final_matched]\n",
    "keypoints2 = [x[1] for x in final_matched]\n",
    "\n",
    "def keypoint(points):\n",
    "\tkp1 = []\n",
    "\tfor i in range(len(points)):\n",
    "\t\tkp1.append(cv2.KeyPoint(int(points[i][0]), int(points[i][1]), 3))\n",
    "\treturn kp1\n",
    "\n",
    "keypoints1= keypoint(keypoints1)\n",
    "keypoints2= keypoint(keypoints2)\n",
    "\n",
    "out = cv2.drawMatches(image1, keypoints1, image2, keypoints2, matches1to2, None, flags =2)\n",
    "cv2.imwrite('outliers.jpg',out)"
   ]
  },
  {
   "cell_type": "code",
   "execution_count": 63,
   "id": "5f210f31",
   "metadata": {},
   "outputs": [],
   "source": [
    "def warpTwoImages(imag1, imag2, H):\n",
    "\n",
    "    img1 = imag2\n",
    "    img2 = imag1\n",
    "    h1,w1 = img1.shape[:2]\n",
    "    h2,w2 = img2.shape[:2]\n",
    "    pts1 = np.float32([[0,0],[0,h1],[w1,h1],[w1,0]]).reshape(-1,1,2)\n",
    "    pts2 = np.float32([[0,0],[0,h2],[w2,h2],[w2,0]]).reshape(-1,1,2)\n",
    "    pts2_ = cv2.perspectiveTransform(pts2, H)\n",
    "    pts = np.concatenate((pts1, pts2_), axis=0)\n",
    "    [xmin, ymin] = np.int32(pts.min(axis=0).ravel())\n",
    "    [xmax, ymax] = np.int32(pts.max(axis=0).ravel())\n",
    "    t = [-xmin,-ymin]\n",
    "    Ht = np.array([[1,0,t[0]],[0,1,t[1]],[0,0,1]]) # translate\n",
    "   \n",
    "    result = cv2.warpPerspective(img2, Ht.dot(H), (xmax-xmin, ymax-ymin), flags = cv2.INTER_LINEAR)\n",
    "    print(img2.shape)\n",
    "    print(result.shape)\n",
    "    result[t[1]:h1+t[1],t[0]:w1+t[0]] = img1\n",
    "\n",
    "    return result"
   ]
  },
  {
   "cell_type": "code",
   "execution_count": 64,
   "id": "2f531d15",
   "metadata": {},
   "outputs": [
    {
     "name": "stdout",
     "output_type": "stream",
     "text": [
      "(2110, 1909)\n",
      "(2110, 1909, 3)\n",
      "(7496, 6961, 3)\n"
     ]
    }
   ],
   "source": [
    "image1=cv2.imread(r'..\\Prob 5\\warp.jpg')\n",
    "image2 = cv2.imread(r'..\\Prob 5\\3.jpg')\n",
    "\n",
    "imag1 = copy.deepcopy(image1)\n",
    "imag2 = copy.deepcopy(image2)\n",
    "\n",
    "print(img1.shape)\n",
    "\n",
    "warped = warpTwoImages(imag1, imag2, final_h_mat)"
   ]
  },
  {
   "cell_type": "code",
   "execution_count": 65,
   "id": "0e2a61ad",
   "metadata": {},
   "outputs": [
    {
     "data": {
      "text/plain": [
       "True"
      ]
     },
     "execution_count": 65,
     "metadata": {},
     "output_type": "execute_result"
    }
   ],
   "source": [
    "cv2.imwrite('warp2.jpg',warped)"
   ]
  },
  {
   "cell_type": "code",
   "execution_count": null,
   "id": "a5861863",
   "metadata": {},
   "outputs": [],
   "source": []
  },
  {
   "cell_type": "code",
   "execution_count": null,
   "id": "2e8b21be",
   "metadata": {},
   "outputs": [],
   "source": []
  },
  {
   "cell_type": "code",
   "execution_count": null,
   "id": "98614374",
   "metadata": {},
   "outputs": [],
   "source": []
  },
  {
   "cell_type": "code",
   "execution_count": null,
   "id": "101ac6eb",
   "metadata": {},
   "outputs": [],
   "source": []
  },
  {
   "cell_type": "code",
   "execution_count": null,
   "id": "1389cc64",
   "metadata": {},
   "outputs": [],
   "source": []
  },
  {
   "cell_type": "code",
   "execution_count": null,
   "id": "8887a034",
   "metadata": {},
   "outputs": [],
   "source": []
  },
  {
   "cell_type": "code",
   "execution_count": null,
   "id": "2fb36d46",
   "metadata": {},
   "outputs": [],
   "source": []
  },
  {
   "cell_type": "code",
   "execution_count": 2,
   "id": "07882b09",
   "metadata": {},
   "outputs": [
    {
     "data": {
      "text/plain": [
       "True"
      ]
     },
     "execution_count": 2,
     "metadata": {},
     "output_type": "execute_result"
    }
   ],
   "source": [
    "import cv2\n",
    "image1=cv2.imread(r'..\\Prob 5\\3.jpg')\n",
    "image2 = cv2.imread(r'..\\Prob 5\\4.jpg')\n",
    "\n",
    "re1= cv2.resize(image1, (506*2,672*2 ))\n",
    "\n",
    "re2= cv2.resize(image2, (506*2,672*2 ))\n",
    "\n",
    "cv2.imwrite('3.jpg', re1)\n",
    "cv2.imwrite('4.jpg', re2)"
   ]
  },
  {
   "cell_type": "code",
   "execution_count": null,
   "id": "d77bb1e0",
   "metadata": {},
   "outputs": [],
   "source": []
  }
 ],
 "metadata": {
  "kernelspec": {
   "display_name": "Python 3 (ipykernel)",
   "language": "python",
   "name": "python3"
  },
  "language_info": {
   "codemirror_mode": {
    "name": "ipython",
    "version": 3
   },
   "file_extension": ".py",
   "mimetype": "text/x-python",
   "name": "python",
   "nbconvert_exporter": "python",
   "pygments_lexer": "ipython3",
   "version": "3.9.13"
  }
 },
 "nbformat": 4,
 "nbformat_minor": 5
}
