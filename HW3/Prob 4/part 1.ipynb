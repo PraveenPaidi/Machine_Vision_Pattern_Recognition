{
 "cells": [
  {
   "cell_type": "code",
   "execution_count": 49,
   "id": "7624110a",
   "metadata": {},
   "outputs": [],
   "source": [
    "import numpy as np\n",
    "from PIL import Image, ImageDraw\n",
    "\n",
    "# Create a new image with a black background\n",
    "img = Image.new('RGB', (300, 300), 'black')\n",
    "\n",
    "# Generate random angles for a regular quadrilateral (in radians)\n",
    "angles = np.sort(np.random.rand(4) * 2 * np.pi)\n",
    "\n",
    "# Define the size of the quadrilateral\n",
    "side_length = 50\n",
    "\n",
    "# Calculate the coordinates for the corners\n",
    "x_coords = np.round(150 + side_length * np.cos(angles))\n",
    "y_coords = np.round(150 + side_length * np.sin(angles))\n",
    "\n",
    "# Calculate the centroid of the quadrilateral\n",
    "centroid_x = np.mean(x_coords)\n",
    "centroid_y = np.mean(y_coords)\n",
    "\n",
    "# Translate the coordinates so the centroid is at the center of the image\n",
    "x_coords = x_coords - centroid_x + 150\n",
    "y_coords = y_coords - centroid_y + 150\n",
    "\n",
    "# Define the points for the quadrilateral\n",
    "points = list(zip(x_coords, y_coords))\n",
    "\n",
    "# Draw the quadrilateral\n",
    "draw = ImageDraw.Draw(img)\n",
    "draw.polygon(points, fill='white')\n",
    "\n",
    "# # Save the image\n",
    "# img.save('random_quadrilateral_centered1.png')\n"
   ]
  },
  {
   "cell_type": "code",
   "execution_count": 50,
   "id": "349d3734",
   "metadata": {},
   "outputs": [],
   "source": [
    "import cv2\n",
    "# Load the original image\n",
    "original_image = Image.open(\"random_quadrilateral_centered1.png\")\n",
    "\n",
    "# Convert the image to a NumPy array\n",
    "original_array = np.array(original_image)\n",
    "\n",
    "# Define the translation matrix\n",
    "translation_matrix = np.float32([[1, 0, 30], [0, 1, 100]])\n",
    "\n",
    "# Apply the translation\n",
    "translated_image = cv2.warpAffine(original_array, translation_matrix, (300, 300))\n",
    "\n",
    "result_image = Image.fromarray(translated_image)\n",
    "\n",
    "result_image.save('translated1.png')\n",
    "\n",
    "# Define the rotation matrix\n",
    "center = (150, 150)\n",
    "rotation_matrix = cv2.getRotationMatrix2D(center, 45, 1)\n",
    "\n",
    "# Apply the rotation\n",
    "rotated_image = cv2.warpAffine(translated_image, rotation_matrix, (300, 300))\n",
    "\n",
    "# Convert the result back to an Image object\n",
    "result_image = Image.fromarray(rotated_image)\n",
    "\n",
    "# result_image.save(\"Rotated1.png\")"
   ]
  },
  {
   "cell_type": "code",
   "execution_count": 35,
   "id": "0aee65cb",
   "metadata": {},
   "outputs": [],
   "source": [
    "T= np.float32([[1, 0, 30], [0, 1, 100],[0, 0, 1]])\n",
    "rotation_matrix = cv2.getRotationMatrix2D(center, 45, 1)"
   ]
  },
  {
   "cell_type": "code",
   "execution_count": 36,
   "id": "ba36a21e",
   "metadata": {},
   "outputs": [
    {
     "data": {
      "text/plain": [
       "array([[  0.70710678,   0.70710678, -62.13203436],\n",
       "       [ -0.70710678,   0.70710678, 150.        ]])"
      ]
     },
     "execution_count": 36,
     "metadata": {},
     "output_type": "execute_result"
    }
   ],
   "source": [
    "rotation_matrix"
   ]
  },
  {
   "cell_type": "code",
   "execution_count": 37,
   "id": "5981c813",
   "metadata": {},
   "outputs": [
    {
     "name": "stdout",
     "output_type": "stream",
     "text": [
      "[[  0.70710678   0.70710678  29.7918472 ]\n",
      " [ -0.70710678   0.70710678 199.49747468]]\n"
     ]
    }
   ],
   "source": [
    "final =np.dot( rotation_matrix,T)\n",
    "print(final)"
   ]
  },
  {
   "cell_type": "code",
   "execution_count": 64,
   "id": "8667ed98",
   "metadata": {},
   "outputs": [
    {
     "name": "stdout",
     "output_type": "stream",
     "text": [
      "Original Pixel: (110, 121)\n",
      "Rotated Pixel: (193, 207)\n"
     ]
    }
   ],
   "source": [
    "\n",
    "x, y  = 110,121\n",
    "\n",
    "# Convert to homogeneous coordinates (add 1 for the third element)\n",
    "original_point = np.array([x, y, 1])\n",
    "\n",
    "# Apply the rotation matrix\n",
    "rotated_point = np.dot(final, original_point)\n",
    "\n",
    "# Extract the x and y coordinates of the rotated point\n",
    "x_rotated, y_rotated = rotated_point\n",
    "\n",
    "# Convert back to non-homogeneous coordinates\n",
    "x_rotated, y_rotated = int(x_rotated), int(y_rotated)\n",
    "\n",
    "print(f'Original Pixel: ({x}, {y})')\n",
    "print(f'Rotated Pixel: ({x_rotated}, {y_rotated})')\n"
   ]
  },
  {
   "cell_type": "code",
   "execution_count": null,
   "id": "c3b60ba5",
   "metadata": {},
   "outputs": [],
   "source": []
  }
 ],
 "metadata": {
  "kernelspec": {
   "display_name": "Python 3 (ipykernel)",
   "language": "python",
   "name": "python3"
  },
  "language_info": {
   "codemirror_mode": {
    "name": "ipython",
    "version": 3
   },
   "file_extension": ".py",
   "mimetype": "text/x-python",
   "name": "python",
   "nbconvert_exporter": "python",
   "pygments_lexer": "ipython3",
   "version": "3.9.13"
  }
 },
 "nbformat": 4,
 "nbformat_minor": 5
}
