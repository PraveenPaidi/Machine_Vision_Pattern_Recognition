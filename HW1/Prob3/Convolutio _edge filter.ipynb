{
 "cells": [
  {
   "cell_type": "code",
   "execution_count": 17,
   "id": "027935a8",
   "metadata": {},
   "outputs": [
    {
     "name": "stdout",
     "output_type": "stream",
     "text": [
      "Padded image is\n",
      " [[0 0 0 0 0 0 0]\n",
      " [0 0 0 0 0 0 0]\n",
      " [0 0 1 2 3 0 0]\n",
      " [0 0 4 5 6 0 0]\n",
      " [0 0 7 8 9 0 0]\n",
      " [0 0 0 0 0 0 0]\n",
      " [0 0 0 0 0 0 0]]\n"
     ]
    }
   ],
   "source": [
    "import numpy as np \n",
    "import time\n",
    "\n",
    "start_time = time.time()\n",
    "# Input image \n",
    "image= np.array([[1, 2, 3], [4, 5, 6], [7, 8 ,9]])\n",
    "image_rows, image_columns = image.shape\n",
    "\n",
    "# vectorize the image \n",
    "I = np.array([1, 2, 3, 4, 5, 6, 7, 8, 9]).T\n",
    "\n",
    "# kernel input \n",
    "kernel = np.array ([[1, 0 , -1], [1, 0, -1], [1, 0, -1]])\n",
    "kernel_rows, kernel_columns = kernel.shape\n",
    "\n",
    "# output dimensions input \n",
    "output_rows, output_columns= (5, 5)\n",
    "\n",
    "# pad width calculation\n",
    "pad_width = int((output_rows - image_rows + 2)/2)  # Number of rows/columns to pad on each side\n",
    "constant_value = 0 \n",
    "\n",
    "# Pad the matrix with zeros\n",
    "image_padded = np.pad(image, pad_width, mode='constant', constant_values=constant_value)\n",
    "padded_rows,padded_columns = np.shape(image_padded)\n",
    "\n",
    "# H matrix initialization\n",
    "H= np.zeros((25, 9), dtype=int)\n",
    "print('Padded image is\\n', image_padded)\n"
   ]
  },
  {
   "cell_type": "code",
   "execution_count": 18,
   "id": "b6e1cdf5",
   "metadata": {},
   "outputs": [],
   "source": [
    "def create_position_mapping(matrix1, matrix2):\n",
    "    # Get the dimensions of the matrices\n",
    "    rows1, cols1 = len(matrix1), len(matrix1[0])\n",
    "    rows2, cols2 = len(matrix2), len(matrix2[0])\n",
    "\n",
    "    # Calculate the padding (if any)\n",
    "    row_padding = (rows2 - rows1) // 2\n",
    "    col_padding = (cols2 - cols1) // 2\n",
    "\n",
    "    # Initialize an empty dictionary to store the position mappings\n",
    "    position_mappings = {}\n",
    "\n",
    "    # Iterate through the positions in the smaller matrix (matrix1)\n",
    "    for i in range(rows1):\n",
    "        for j in range(cols1):\n",
    "            position1 = (i, j)  # Position in matrix1\n",
    "            position2 = (i + row_padding, j + col_padding)  # Position in matrix2\n",
    "            position_mappings[position1] = position2\n",
    "\n",
    "    return position_mappings\n",
    "\n",
    "# Create the position mapping\n",
    "position_mappings = create_position_mapping(image, image_padded)\n",
    "\n",
    "# reversing the mapping \n",
    "reverse_position_mappings = {v: k for k, v in position_mappings.items()}"
   ]
  },
  {
   "cell_type": "code",
   "execution_count": 19,
   "id": "ac9c552e",
   "metadata": {},
   "outputs": [
    {
     "name": "stdout",
     "output_type": "stream",
     "text": [
      "[[-1  0  0  0  0  0  0  0  0]\n",
      " [ 0 -1  0  0  0  0  0  0  0]\n",
      " [ 1  0 -1  0  0  0  0  0  0]\n",
      " [ 0  1  0  0  0  0  0  0  0]\n",
      " [ 0  0  1  0  0  0  0  0  0]\n",
      " [-1  0  0 -1  0  0  0  0  0]\n",
      " [ 0 -1  0  0 -1  0  0  0  0]\n",
      " [ 1  0 -1  1  0 -1  0  0  0]\n",
      " [ 0  1  0  0  1  0  0  0  0]\n",
      " [ 0  0  1  0  0  1  0  0  0]\n",
      " [-1  0  0 -1  0  0 -1  0  0]\n",
      " [ 0 -1  0  0 -1  0  0 -1  0]\n",
      " [ 1  0 -1  1  0 -1  1  0 -1]\n",
      " [ 0  1  0  0  1  0  0  1  0]\n",
      " [ 0  0  1  0  0  1  0  0  1]\n",
      " [ 0  0  0 -1  0  0 -1  0  0]\n",
      " [ 0  0  0  0 -1  0  0 -1  0]\n",
      " [ 0  0  0  1  0 -1  1  0 -1]\n",
      " [ 0  0  0  0  1  0  0  1  0]\n",
      " [ 0  0  0  0  0  1  0  0  1]\n",
      " [ 0  0  0  0  0  0 -1  0  0]\n",
      " [ 0  0  0  0  0  0  0 -1  0]\n",
      " [ 0  0  0  0  0  0  1  0 -1]\n",
      " [ 0  0  0  0  0  0  0  1  0]\n",
      " [ 0  0  0  0  0  0  0  0  1]]\n"
     ]
    }
   ],
   "source": [
    "\n",
    "count=0\n",
    "\n",
    "for i in range(output_rows):\n",
    "    \n",
    "    for j in range(output_columns):\n",
    "        \n",
    "        # creating the sliding window kernel \n",
    "        temp_mat = np.array([[image_padded[i][j], image_padded[i][j+1], image_padded[i][j+2]],\n",
    "                             [image_padded[i+1][j], image_padded[i+1][j+1], image_padded[i+1][j+2]],\n",
    "                             [image_padded[i+2][j], image_padded[i+2][j+1], image_padded[i+2][j+2]]])\n",
    "        \n",
    "        # convolution matrix\n",
    "        H_mat = np.zeros((3, 3))\n",
    "        \n",
    "        # for image coordniate location\n",
    "        pos1= i\n",
    "        \n",
    "        for a in range(kernel_rows):\n",
    "            \n",
    "            #for image coordniate location\n",
    "            pos2 = j\n",
    "            \n",
    "            for b in range(kernel_columns):\n",
    "                 \n",
    "                if temp_mat[a][b] !=0:\n",
    "                    # to get the position of image coordinate                    \n",
    "                    reverse_mapping = reverse_position_mappings.get((pos1,pos2))\n",
    "                    \n",
    "                    if reverse_mapping is not None:\n",
    "                         H_mat[reverse_mapping[0]][reverse_mapping[1]]= kernel[a][b]\n",
    "                pos2 = pos2+1\n",
    "            pos1= pos1+1\n",
    "                    \n",
    "        \n",
    "        # reshaping for the multiplication\n",
    "        H[count,:]= np.resize(H_mat, (1,9))\n",
    "        \n",
    "        count+=1\n",
    "\n",
    "print(H)"
   ]
  },
  {
   "cell_type": "code",
   "execution_count": 20,
   "id": "26cd37c6",
   "metadata": {},
   "outputs": [],
   "source": [
    "\n",
    "def conv2dmatrix(I, H):\n",
    "#     start_time = time.time()\n",
    "    convolved= np.dot(H, I)\n",
    "    end_time = time.time()\n",
    "    \n",
    "    timer = end_time - start_time\n",
    "    \n",
    "    return convolved, timer\n",
    "    "
   ]
  },
  {
   "cell_type": "code",
   "execution_count": 21,
   "id": "be878d08",
   "metadata": {},
   "outputs": [],
   "source": [
    "output, time = conv2dmatrix(I, H )\n",
    "output=output.reshape(5,5)\n",
    "print(time)"
   ]
  },
  {
   "cell_type": "code",
   "execution_count": 25,
   "id": "cda508e1",
   "metadata": {},
   "outputs": [
    {
     "name": "stdout",
     "output_type": "stream",
     "text": [
      "Convolve image is\n",
      " [[ -1  -2  -2   2   3]\n",
      " [ -5  -7  -4   7   9]\n",
      " [-12 -15  -6  15  18]\n",
      " [-11 -13  -4  13  15]\n",
      " [ -7  -8  -2   8   9]]\n"
     ]
    }
   ],
   "source": [
    "print('Convolve image is\\n', output)\n"
   ]
  },
  {
   "cell_type": "code",
   "execution_count": null,
   "id": "a209ba8d",
   "metadata": {},
   "outputs": [],
   "source": []
  }
 ],
 "metadata": {
  "kernelspec": {
   "display_name": "Python 3 (ipykernel)",
   "language": "python",
   "name": "python3"
  },
  "language_info": {
   "codemirror_mode": {
    "name": "ipython",
    "version": 3
   },
   "file_extension": ".py",
   "mimetype": "text/x-python",
   "name": "python",
   "nbconvert_exporter": "python",
   "pygments_lexer": "ipython3",
   "version": "3.9.13"
  }
 },
 "nbformat": 4,
 "nbformat_minor": 5
}
