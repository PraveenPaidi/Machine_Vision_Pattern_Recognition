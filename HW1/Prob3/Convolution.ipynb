{
 "cells": [
  {
   "cell_type": "code",
   "execution_count": 2,
   "id": "0f8274b1",
   "metadata": {},
   "outputs": [],
   "source": [
    "import numpy as np \n",
    "import time\n",
    "\n",
    "start_time = time.time()\n",
    "# Input image \n",
    "image= np.array([[1, 2, 3], [4, 5, 6], [7, 8 ,9]])\n",
    "image_rows, image_columns = image.shape\n",
    "\n",
    "# vectorize the image \n",
    "I = np.array([1, 2, 3, 4, 5, 6, 7, 8, 9]).T\n",
    "\n",
    "# kernel input \n",
    "kernel = np.array ([[1, 0 , -1], [1, 0, -1], [1, 0, -1]])\n",
    "kernel_rows, kernel_columns = kernel.shape\n",
    "\n",
    "output_rows, output_columns = (image_rows+kernel_rows-1, image_columns+kernel_columns-1)\n",
    "\n",
    "kernel_padded= np.pad(kernel, ((output_rows-kernel_rows,0),(0, output_columns-kernel_columns)))\n",
    "\n"
   ]
  },
  {
   "cell_type": "code",
   "execution_count": 3,
   "id": "3f1e3d95",
   "metadata": {},
   "outputs": [],
   "source": [
    "import scipy\n",
    "toeplitz_list=[]\n",
    "for i in range(kernel_padded.shape[0]-1, -1, -1):\n",
    "    c=kernel_padded[i,:]\n",
    "    r=np.r_[c[0],np.zeros(image_columns-1)]\n",
    "    \n",
    "    toeplitz_m=scipy.linalg.toeplitz(c,r)\n",
    "    toeplitz_list.append(toeplitz_m)\n",
    "    \n",
    "    "
   ]
  },
  {
   "cell_type": "code",
   "execution_count": 4,
   "id": "c4fc755f",
   "metadata": {},
   "outputs": [],
   "source": [
    "c = range(1, kernel_padded.shape[0]+1)\n",
    "r=np.r_[c[0],np.zeros(image_rows-1,dtype=int)]\n",
    "\n",
    "doubly_indices=scipy.linalg.toeplitz(c,r)\n"
   ]
  },
  {
   "cell_type": "code",
   "execution_count": 5,
   "id": "eef51c79",
   "metadata": {},
   "outputs": [],
   "source": [
    "h = toeplitz_m.shape[0]*doubly_indices.shape[0]\n",
    "w = toeplitz_m.shape[1]*doubly_indices.shape[1]\n",
    "\n",
    "doubly_blocked_shape=[h,w]\n",
    "doubly_blocked=np.zeros(doubly_blocked_shape)\n",
    "\n",
    "b_h, b_w = toeplitz_m.shape\n",
    "for i in range(doubly_indices.shape[0]):\n",
    "    for j in range(doubly_indices.shape[1]):\n",
    "        start_i = i*b_h\n",
    "        start_j = j*b_w\n",
    "        end_i = start_i+b_h\n",
    "        end_j = start_j+b_w\n",
    "        doubly_blocked[start_i:end_i, start_j:end_j]= toeplitz_list[doubly_indices[i,j]-1]\n",
    "        \n"
   ]
  },
  {
   "cell_type": "code",
   "execution_count": 6,
   "id": "efb05020",
   "metadata": {},
   "outputs": [
    {
     "name": "stdout",
     "output_type": "stream",
     "text": [
      "[[ 1  0  0  0  0  0  0  0  0]\n",
      " [ 0  1  0  0  0  0  0  0  0]\n",
      " [-1  0  1  0  0  0  0  0  0]\n",
      " [ 0 -1  0  0  0  0  0  0  0]\n",
      " [ 0  0 -1  0  0  0  0  0  0]\n",
      " [ 1  0  0  1  0  0  0  0  0]\n",
      " [ 0  1  0  0  1  0  0  0  0]\n",
      " [-1  0  1 -1  0  1  0  0  0]\n",
      " [ 0 -1  0  0 -1  0  0  0  0]\n",
      " [ 0  0 -1  0  0 -1  0  0  0]\n",
      " [ 1  0  0  1  0  0  1  0  0]\n",
      " [ 0  1  0  0  1  0  0  1  0]\n",
      " [-1  0  1 -1  0  1 -1  0  1]\n",
      " [ 0 -1  0  0 -1  0  0 -1  0]\n",
      " [ 0  0 -1  0  0 -1  0  0 -1]\n",
      " [ 0  0  0  1  0  0  1  0  0]\n",
      " [ 0  0  0  0  1  0  0  1  0]\n",
      " [ 0  0  0 -1  0  1 -1  0  1]\n",
      " [ 0  0  0  0 -1  0  0 -1  0]\n",
      " [ 0  0  0  0  0 -1  0  0 -1]\n",
      " [ 0  0  0  0  0  0  1  0  0]\n",
      " [ 0  0  0  0  0  0  0  1  0]\n",
      " [ 0  0  0  0  0  0 -1  0  1]\n",
      " [ 0  0  0  0  0  0  0 -1  0]\n",
      " [ 0  0  0  0  0  0  0  0 -1]]\n"
     ]
    }
   ],
   "source": [
    "H= (doubly_blocked.astype(int))\n",
    "print(H)"
   ]
  },
  {
   "cell_type": "code",
   "execution_count": 7,
   "id": "9dfde2f8",
   "metadata": {},
   "outputs": [
    {
     "name": "stdout",
     "output_type": "stream",
     "text": [
      "0.0\n",
      "Convolve image is\n",
      " [[  1   2   2  -2  -3]\n",
      " [  5   7   4  -7  -9]\n",
      " [ 12  15   6 -15 -18]\n",
      " [ 11  13   4 -13 -15]\n",
      " [  7   8   2  -8  -9]]\n"
     ]
    }
   ],
   "source": [
    "import time\n",
    "def conv2dmatrix(I, H):\n",
    "    start_time = time.time()\n",
    "    convolved= np.dot(H, I)\n",
    "    end_time = time.time()\n",
    "    \n",
    "    timer = end_time - start_time\n",
    "    \n",
    "    return convolved, timer\n",
    "\n",
    "output, time = conv2dmatrix(I, H )\n",
    "output=output.reshape(5,5)\n",
    "print(time)\n",
    "print('Convolve image is\\n', output)\n"
   ]
  },
  {
   "cell_type": "code",
   "execution_count": null,
   "id": "29bb9e92",
   "metadata": {},
   "outputs": [],
   "source": []
  }
 ],
 "metadata": {
  "kernelspec": {
   "display_name": "Python 3 (ipykernel)",
   "language": "python",
   "name": "python3"
  },
  "language_info": {
   "codemirror_mode": {
    "name": "ipython",
    "version": 3
   },
   "file_extension": ".py",
   "mimetype": "text/x-python",
   "name": "python",
   "nbconvert_exporter": "python",
   "pygments_lexer": "ipython3",
   "version": "3.9.13"
  }
 },
 "nbformat": 4,
 "nbformat_minor": 5
}
