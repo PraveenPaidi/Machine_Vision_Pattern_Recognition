{
 "cells": [
  {
   "cell_type": "code",
   "execution_count": 1,
   "id": "3207b601",
   "metadata": {},
   "outputs": [],
   "source": [
    "import cv2\n",
    "from matplotlib import pyplot as plt\n",
    "import numpy as np\n",
    "\n",
    "path= r'C:\\Users\\prave\\Downloads\\HW 1\\Prob4\\Image4.jpg'\n",
    "image= cv2.imread(path)\n",
    "                  \n",
    "grey = cv2.cvtColor(image, cv2.COLOR_BGR2GRAY)\n",
    "filename = 'grayimage3.jpg'\n",
    "cv2.imwrite(filename, grey)\n",
    "                  \n",
    "def fourier(image, i):\n",
    "    \n",
    "    gray = cv2.cvtColor(image, cv2.COLOR_BGR2GRAY)\n",
    "    gray = np.float32(gray)\n",
    "\n",
    "    # Appplying fourier transform function \n",
    "    f = np.fft.fft2(gray)\n",
    "\n",
    "    # Dc is at the top left corner , to shift that dc from there to center\n",
    "    fshift = np.fft.fftshift(f)\n",
    "    \n",
    "    # converting frquency transform to magnitude transform\n",
    "    magnitude_spectrum = 20*np.log1p(np.abs(fshift))\n",
    "    \n",
    "    magnitude_spectrum = ((magnitude_spectrum - np.min(magnitude_spectrum)) / (np.max(magnitude_spectrum) - np.min(magnitude_spectrum)) * 255).astype(np.uint8)\n",
    "\n",
    "    # phase transform\n",
    "    phase_spectrum = np.angle(fshift)\n",
    "    \n",
    "    cv2.imwrite(\"Magnitude\" + str(i)+ \".jpg\", magnitude_spectrum)\n",
    "    \n",
    "    return magnitude_spectrum, fshift\n",
    "    \n",
    "# mag1, f1= fourier(image, 1)"
   ]
  },
  {
   "cell_type": "code",
   "execution_count": 2,
   "id": "f28e4f76",
   "metadata": {},
   "outputs": [
    {
     "name": "stderr",
     "output_type": "stream",
     "text": [
      "C:\\Users\\prave\\AppData\\Local\\Temp\\ipykernel_5332\\4018455907.py:30: ComplexWarning: Casting complex values to real discards the imaginary part\n",
      "  cv2.imwrite(\"Imagelowpassgreyscale\" + \".jpg\", img_back.astype(np .uint8))\n"
     ]
    },
    {
     "data": {
      "text/plain": [
       "True"
      ]
     },
     "execution_count": 2,
     "metadata": {},
     "output_type": "execute_result"
    }
   ],
   "source": [
    "# before LPF\n",
    "mag2, f2= fourier(image, 2)\n",
    "\n",
    "\n",
    "rows, cols = grey.shape\n",
    "crow, ccol = rows // 2, cols // 2  # Center of the image\n",
    "\n",
    "# Create a Gaussian filter\n",
    "sigma = 30  # Adjust the standard deviation as needed\n",
    "x = np.arange(cols) - ccol\n",
    "y = np.arange(rows) - crow\n",
    "X, Y = np.meshgrid(x, y)\n",
    "mask = np.exp(-(X**2 + Y**2) / (2 * sigma**2))\n",
    "mask = mask / mask.max()  # Normalize to [0, 1]\n",
    "\n",
    "\n",
    "f_transform_shifted = f2 * mask\n",
    "\n",
    "magnitude_spectrum = 20*np.log1p(np.abs(f_transform_shifted))\n",
    "    \n",
    "magnitude_spectrum = ((magnitude_spectrum - np.min(magnitude_spectrum)) / (np.max(magnitude_spectrum) - np.min(magnitude_spectrum)) * 255).astype(np.uint8)\n",
    "\n",
    "cv2.imwrite(\"Magnitudelowpass\" + \".jpg\", magnitude_spectrum)\n",
    "\n",
    "f_transform_shifted = np.fft.ifftshift(f_transform_shifted)\n",
    "img_back = np.fft.ifft2(f_transform_shifted)\n",
    "\n",
    "img_back = np.maximum(0, np.minimum(img_back, 255))\n",
    "\n",
    "cv2.imwrite(\"Imagelowpassgreyscale\" + \".jpg\", img_back.astype(np .uint8))\n"
   ]
  },
  {
   "cell_type": "code",
   "execution_count": 3,
   "id": "1c6049e1",
   "metadata": {},
   "outputs": [
    {
     "name": "stderr",
     "output_type": "stream",
     "text": [
      "C:\\Users\\prave\\AppData\\Local\\Temp\\ipykernel_5332\\3162622630.py:26: ComplexWarning: Casting complex values to real discards the imaginary part\n",
      "  cv2.imwrite(\"Imagehighpassgreyscale\" + \".jpg\", img_back.astype(np .uint8))\n"
     ]
    },
    {
     "data": {
      "text/plain": [
       "True"
      ]
     },
     "execution_count": 3,
     "metadata": {},
     "output_type": "execute_result"
    }
   ],
   "source": [
    "rows, cols = grey.shape\n",
    "crow, ccol = rows // 2, cols // 2  # Center of the image\n",
    "\n",
    "# Create a circular mask with high values in the center\n",
    "mask = np.ones((rows, cols), np.uint8)\n",
    "r = 30  # Radius of the circular mask\n",
    "center = [crow, ccol]\n",
    "x, y = np.ogrid[:rows, :cols]\n",
    "mask_area = (x - center[0]) ** 2 + (y - center[1]) ** 2 <= r*r\n",
    "mask[mask_area] = 0  # Low values towards the center\n",
    "\n",
    "\n",
    "f_transform_shifted = f2 * mask\n",
    "\n",
    "magnitude_spectrum = 20*np.log1p(np.abs(f_transform_shifted))\n",
    "    \n",
    "magnitude_spectrum = ((magnitude_spectrum - np.min(magnitude_spectrum)) / (np.max(magnitude_spectrum) - np.min(magnitude_spectrum)) * 255).astype(np.uint8)\n",
    "\n",
    "cv2.imwrite(\"Magnitudehighpass\" + \".jpg\", magnitude_spectrum)\n",
    "\n",
    "f_transform_shifted = np.fft.ifftshift(f_transform_shifted)\n",
    "img_back = np.fft.ifft2(f_transform_shifted)\n",
    "\n",
    "img_back = np.maximum(0, np.minimum(img_back, 255))\n",
    "\n",
    "cv2.imwrite(\"Imagehighpassgreyscale\" + \".jpg\", img_back.astype(np .uint8))\n",
    "\n"
   ]
  },
  {
   "cell_type": "code",
   "execution_count": 4,
   "id": "f9f3b17a",
   "metadata": {},
   "outputs": [
    {
     "name": "stderr",
     "output_type": "stream",
     "text": [
      "C:\\Users\\prave\\AppData\\Local\\Temp\\ipykernel_5332\\1452970792.py:36: ComplexWarning: Casting complex values to real discards the imaginary part\n",
      "  cv2.imwrite(\"ImageDOGgreyscale\" + \".jpg\", img_back.astype(np .uint8))\n"
     ]
    },
    {
     "data": {
      "text/plain": [
       "True"
      ]
     },
     "execution_count": 4,
     "metadata": {},
     "output_type": "execute_result"
    }
   ],
   "source": [
    "rows, cols = grey.shape\n",
    "crow, ccol = rows // 2, cols // 2  # Center of the image\n",
    "\n",
    "# Create first Gaussian filter (high-pass)\n",
    "sigma_high = 60\n",
    "x = np.arange(cols) - ccol\n",
    "y = np.arange(rows) - crow\n",
    "X, Y = np.meshgrid(x, y)\n",
    "high_pass_mask = np.exp(-(X**2 + Y**2) / (2 * sigma_high**2))\n",
    "high_pass_mask = high_pass_mask / high_pass_mask.max()  # Normalize to [0, 1]\n",
    "\n",
    "# Create second Gaussian filter (low-pass)\n",
    "sigma_low = 50\n",
    "low_pass_mask = np.exp(-(X**2 + Y**2) / (2 * sigma_low**2))\n",
    "low_pass_mask = low_pass_mask / low_pass_mask.max()  # Normalize to [0, 1]\n",
    "\n",
    "f_transform_high = f2 * high_pass_mask\n",
    "f_transform_low = f2 * low_pass_mask\n",
    "\n",
    "f_transform_dog = f_transform_high - f_transform_low\n",
    "\n",
    "f_transform_shifted= f_transform_dog\n",
    "\n",
    "magnitude_spectrum = 20*np.log1p(np.abs(f_transform_shifted))\n",
    "    \n",
    "magnitude_spectrum = ((magnitude_spectrum - np.min(magnitude_spectrum)) / (np.max(magnitude_spectrum) - np.min(magnitude_spectrum)) * 255).astype(np.uint8)\n",
    "\n",
    "cv2.imwrite(\"MagnitudeDOG\" + \".jpg\", magnitude_spectrum)\n",
    "\n",
    "\n",
    "f_transform_inverse = np.fft.ifftshift(f_transform_dog)\n",
    "img_back = np.fft.ifft2(f_transform_inverse)\n",
    "\n",
    "img_back = np.maximum(0, np.minimum(img_back, 255))\n",
    "\n",
    "cv2.imwrite(\"ImageDOGgreyscale\" + \".jpg\", img_back.astype(np .uint8))\n"
   ]
  },
  {
   "cell_type": "code",
   "execution_count": 5,
   "id": "347d09ee",
   "metadata": {},
   "outputs": [],
   "source": [
    "path = r'C:\\Users\\prave\\Downloads\\HW 1\\Prob4\\bug2.jpg'\n",
    "path2 = r'C:\\Users\\prave\\Downloads\\HW 1\\Prob4\\bug3.jpg'\n",
    "firstimage= cv2.imread(path)\n",
    "secondimage=cv2.imread(path2)"
   ]
  },
  {
   "cell_type": "code",
   "execution_count": 6,
   "id": "517b5fc5",
   "metadata": {},
   "outputs": [],
   "source": [
    "\n",
    "# Define the size of the kernel\n",
    "kernel_size = 100\n",
    "\n",
    "# Create a low-pass kernel (averaging filter)\n",
    "low_pass_kernel = np.ones((kernel_size, kernel_size), np.float32) / (kernel_size * kernel_size)\n",
    "\n",
    "# Create a high-pass kernel by subtracting low-pass kernel from the identity kernel\n",
    "identity_kernel = np.zeros((kernel_size, kernel_size), np.float32)\n",
    "identity_kernel[kernel_size//2, kernel_size//2] = 1\n",
    "high_pass_kernel = identity_kernel - low_pass_kernel\n",
    "\n",
    "# Load the image\n",
    "image = cv2.imread('input_image.jpg', cv2.IMREAD_COLOR)\n",
    "\n",
    "# Apply the low-pass filter\n",
    "low_pass_filtered = cv2.filter2D(firstimage, -1, low_pass_kernel)\n",
    "\n",
    "# Apply the high-pass filter\n",
    "high_pass_filtered = cv2.filter2D(secondimage, -1, high_pass_kernel)\n"
   ]
  },
  {
   "cell_type": "code",
   "execution_count": 7,
   "id": "fdccff4b",
   "metadata": {},
   "outputs": [],
   "source": [
    "result= low_pass_filtered+high_pass_filtered"
   ]
  },
  {
   "cell_type": "code",
   "execution_count": 8,
   "id": "16cdbf27",
   "metadata": {},
   "outputs": [
    {
     "data": {
      "text/plain": [
       "True"
      ]
     },
     "execution_count": 8,
     "metadata": {},
     "output_type": "execute_result"
    }
   ],
   "source": [
    "cv2.imwrite('result.jpg', result)"
   ]
  },
  {
   "cell_type": "code",
   "execution_count": 9,
   "id": "5eb9cbef",
   "metadata": {},
   "outputs": [
    {
     "name": "stderr",
     "output_type": "stream",
     "text": [
      "C:\\Users\\prave\\AppData\\Local\\Temp\\ipykernel_5332\\1518962479.py:47: ComplexWarning: Casting complex values to real discards the imaginary part\n",
      "  cv2.imwrite(\"reeeeee\" + \".jpg\", img_back.astype(np .uint8))\n"
     ]
    },
    {
     "data": {
      "text/plain": [
       "True"
      ]
     },
     "execution_count": 9,
     "metadata": {},
     "output_type": "execute_result"
    }
   ],
   "source": [
    "path = r'C:\\Users\\prave\\Downloads\\HW 1\\Prob4\\bug2.jpg'\n",
    "path2 = r'C:\\Users\\prave\\Downloads\\HW 1\\Prob4\\bug3.jpg'\n",
    "firstimage= cv2.imread(path)\n",
    "secondimage=cv2.imread(path2)\n",
    "\n",
    "mag10, f10=fourier(firstimage, 10)\n",
    "mag11, f11=fourier(secondimage, 11)\n",
    "\n",
    "grey = cv2.cvtColor(firstimage, cv2.COLOR_BGR2GRAY)\n",
    "\n",
    "\n",
    "rows, cols = grey.shape\n",
    "crow, ccol = rows // 2, cols // 2  # Center of the image\n",
    "\n",
    "# Create a Gaussian filter\n",
    "sigma = 20  # Adjust the standard deviation as needed\n",
    "x = np.arange(cols) - ccol\n",
    "y = np.arange(rows) - crow\n",
    "X, Y = np.meshgrid(x, y)\n",
    "mask = np.exp(-(X**2 + Y**2) / (2 * sigma**2))\n",
    "mask = mask / mask.max()  # Normalize to [0, 1]\n",
    "\n",
    "\n",
    "f_transform_shifted = f10 * mask\n",
    "\n",
    "# magnitude_spectrum = 20*np.log1p(np.abs(f_transform_shifted))\n",
    "\n",
    "\n",
    "###########################################\n",
    "\n",
    "mask2= 1- mask\n",
    "\n",
    "f_transform_shifted1 = f11 * mask2\n",
    "\n",
    "# magnitude_spectrum1 = 20*np.log1p(np.abs(f_transform_shifted))\n",
    "\n",
    "\n",
    "\n",
    "lolo= f_transform_shifted+f_transform_shifted1\n",
    "\n",
    "\n",
    "f_transform_inverse = np.fft.ifftshift(lolo)\n",
    "img_back = np.fft.ifft2(f_transform_inverse)\n",
    "\n",
    "img_back = np.maximum(0, np.minimum(img_back, 255))\n",
    "\n",
    "cv2.imwrite(\"reeeeee\" + \".jpg\", img_back.astype(np .uint8))\n",
    "\n"
   ]
  },
  {
   "cell_type": "code",
   "execution_count": 11,
   "id": "cad94cec",
   "metadata": {},
   "outputs": [],
   "source": [
    "import cv2\n",
    "from matplotlib import pyplot as plt\n",
    "import numpy as np\n",
    "path = r'C:\\Users\\prave\\Downloads\\HW 1\\Prob4\\1.jpg'\n",
    "# path2 = r'C:\\Users\\prave\\Downloads\\HW 1\\Prob4\\12.jpg'\n",
    "firstimage= cv2.imread(path)\n",
    "# secondimage=cv2.imread(path2)\n",
    "\n",
    "mag10, f10=fourier(firstimage, 15)\n",
    "# mag11, f11=fourier(secondimage, 16)"
   ]
  },
  {
   "cell_type": "code",
   "execution_count": 16,
   "id": "bdd81475",
   "metadata": {},
   "outputs": [],
   "source": [
    "def create_diagonal_bandpass_filter(rows, cols, center, radius):\n",
    "    # Generate a frequency grid\n",
    "    freq_rows = np.fft.fftfreq(rows)\n",
    "    freq_cols = np.fft.fftfreq(cols)\n",
    "    freq_radius = np.sqrt(freq_rows[:, np.newaxis]**2 + freq_cols**2)\n",
    "    \n",
    "    # Create the band-pass filter\n",
    "    bandpass_filter = np.logical_and(freq_radius >= center - radius, freq_radius <= center + radius).astype(float)\n",
    "    \n",
    "    return bandpass_filter\n",
    "\n",
    "def apply_bandpass_filter(image, center, radius):\n",
    "    # Apply FFT to the image\n",
    "    f_transform = np.fft.fft2(image)\n",
    "    \n",
    "    # Create the band-pass filter\n",
    "    rows, cols = image.shape\n",
    "    bandpass_filter = create_diagonal_bandpass_filter(rows, cols, center, radius)\n",
    "    \n",
    "    # Apply the filter\n",
    "    f_transform = f_transform * bandpass_filter\n",
    "    \n",
    "    \n",
    "    magnitude_spectrum = 20*np.log1p(np.abs(f_transform))\n",
    "    \n",
    "    magnitude_spectrum = ((magnitude_spectrum - np.min(magnitude_spectrum)) / (np.max(magnitude_spectrum) - np.min(magnitude_spectrum)) * 255).astype(np.uint8)\n",
    "\n",
    "    cv2.imwrite(\"MagnitudeDiag\" + \".jpg\", magnitude_spectrum)\n",
    "\n",
    "    \n",
    "    # Inverse FFT\n",
    "    result = np.fft.ifft2(f_transform).real\n",
    "    \n",
    "    return result\n",
    "\n",
    "# Load an image\n",
    "image = cv2.imread(r'C:\\Users\\prave\\Downloads\\HW 1\\Prob4\\Image4.jpg', cv2.IMREAD_GRAYSCALE)\n",
    "\n",
    "# Define the center and radius of the band-pass filter\n",
    "center = 0.25  # Adjust this value to control the band\n",
    "radius = 0.25 # Adjust this value to control the width of the band\n",
    "\n",
    "# Apply the band-pass filter\n",
    "filtered_image = apply_bandpass_filter(image, center, radius)\n",
    "\n",
    "cv2.imwrite('Diag Image.jpg', filtered_image)\n",
    "\n",
    "cv2.waitKey(0)\n",
    "cv2.destroyAllWindows()\n"
   ]
  },
  {
   "cell_type": "code",
   "execution_count": 3,
   "id": "c51fee9b",
   "metadata": {},
   "outputs": [],
   "source": [
    "import cv2\n",
    "import numpy as np\n",
    "\n",
    "# Define the function to apply the band-pass filter\n",
    "def apply_bandpass_filter(image, center, radius):\n",
    "    rows, cols = image.shape\n",
    "    crow, ccol = int(rows * center), int(cols * center)\n",
    "\n",
    "    # Create a mask with high values in the band\n",
    "    mask = np.ones((rows, cols), np.uint8)\n",
    "    mask[crow-int(rows*radius):crow+int(rows*radius), ccol-int(cols*radius):ccol+int(cols*radius)] = 0\n",
    "\n",
    "    # Apply the Fourier Transform\n",
    "    f = np.fft.fft2(image)\n",
    "    fshift = np.fft.fftshift(f)\n",
    "\n",
    "    # Apply the mask\n",
    "    fshift = fshift * mask\n",
    "    \n",
    "    magnitude_spectrum = 20*np.log1p(np.abs(fshift))\n",
    "    \n",
    "    magnitude_spectrum = ((magnitude_spectrum - np.min(magnitude_spectrum)) / (np.max(magnitude_spectrum) - np.min(magnitude_spectrum)) * 255).astype(np.uint8)\n",
    "\n",
    "    cv2.imwrite(\"MagnitudeDiag\" + \".jpg\", magnitude_spectrum)\n",
    "\n",
    "    # Inverse Fourier Transform\n",
    "    f_ishift = np.fft.ifftshift(fshift)\n",
    "    img_back = np.fft.ifft2(f_ishift)\n",
    "    img_back = np.abs(img_back)\n",
    "\n",
    "    return img_back.astype(np.uint8)\n",
    "\n",
    "# Load an image\n",
    "image = cv2.imread(r'C:\\Users\\prave\\Downloads\\Image4.jpg', cv2.IMREAD_GRAYSCALE)\n",
    "\n",
    "# Define the center and radius of the band-pass filter\n",
    "center = 0.25  # Adjust this value to control the band\n",
    "radius = 0.25  # Adjust this value to control the width of the band\n",
    "\n",
    "# Apply the band-pass filter\n",
    "filtered_image = apply_bandpass_filter(image, center, radius)\n",
    "\n",
    "# Display the original and filtered images\n",
    "# cv2.imshow('Original Image', image)\n",
    "# cv2.imshow('Filtered Image', filtered_image)\n",
    "cv2.imwrite('Diag Image.jpg', filtered_image)\n",
    "\n",
    "cv2.waitKey(0)\n",
    "cv2.destroyAllWindows()\n"
   ]
  },
  {
   "cell_type": "code",
   "execution_count": 17,
   "id": "b6acdca3",
   "metadata": {},
   "outputs": [],
   "source": [
    "import cv2\n",
    "import numpy as np\n",
    "\n",
    "def apply_annulus_filter(image, center, inner_radius, outer_radius):\n",
    "    rows, cols = image.shape\n",
    "    crow, ccol = int(rows * center), int(cols * center)\n",
    "\n",
    "    # Apply the Fourier Transform\n",
    "    f = np.fft.fft2(image)\n",
    "    fshift = np.fft.fftshift(f)\n",
    "\n",
    "    # Create a mask with low values inside the annulus ring\n",
    "    mask = np.ones((rows, cols), np.uint8)\n",
    "    y, x = np.ogrid[-crow:rows-crow, -ccol:cols-ccol]\n",
    "    mask_area = x*x + y*y >= (int(rows*inner_radius))**2\n",
    "    mask_area &= x*x + y*y <= (int(rows*outer_radius))**2\n",
    "    mask[mask_area] = 0\n",
    "\n",
    "    # Apply the mask\n",
    "    fshift = fshift * mask\n",
    "    \n",
    "    magnitude_spectrum = 20*np.log1p(np.abs(fshift))\n",
    "    \n",
    "    magnitude_spectrum = ((magnitude_spectrum - np.min(magnitude_spectrum)) / (np.max(magnitude_spectrum) - np.min(magnitude_spectrum)) * 255).astype(np.uint8)\n",
    "\n",
    "    cv2.imwrite(\"MagnitudeDiag\" + \".jpg\", magnitude_spectrum)\n",
    "\n",
    "    # Inverse Fourier Transform\n",
    "    f_ishift = np.fft.ifftshift(fshift)\n",
    "    img_back = np.fft.ifft2(f_ishift)\n",
    "    img_back = np.abs(img_back)\n",
    "\n",
    "    return img_back.astype(np.uint8)\n",
    "\n",
    "# Load an image\n",
    "image = cv2.imread(r'C:\\Users\\prave\\Downloads\\Image4.jpg', cv2.IMREAD_GRAYSCALE)\n",
    "\n",
    "# Define the center and radii of the annulus ring\n",
    "center = 0.5  # Adjust this value to control the position of the ring\n",
    "inner_radius = 0.2  # Adjust this value to control the inner radius of the ring\n",
    "outer_radius = 0.4  # Adjust this value to control the outer radius of the ring\n",
    "\n",
    "# Apply the annulus filter\n",
    "filtered_image = apply_annulus_filter(image, center, inner_radius, outer_radius)\n",
    "\n",
    "# # Display the original and filtered images\n",
    "# cv2.imshow('Original Image', image)\n",
    "cv2.imwrite(\"Filtered Image\"+ \".jpg\", filtered_image)\n",
    "\n",
    "cv2.waitKey(0)\n",
    "cv2.destroyAllWindows()\n"
   ]
  },
  {
   "cell_type": "code",
   "execution_count": null,
   "id": "2555e62f",
   "metadata": {},
   "outputs": [],
   "source": []
  }
 ],
 "metadata": {
  "kernelspec": {
   "display_name": "Python 3 (ipykernel)",
   "language": "python",
   "name": "python3"
  },
  "language_info": {
   "codemirror_mode": {
    "name": "ipython",
    "version": 3
   },
   "file_extension": ".py",
   "mimetype": "text/x-python",
   "name": "python",
   "nbconvert_exporter": "python",
   "pygments_lexer": "ipython3",
   "version": "3.9.13"
  }
 },
 "nbformat": 4,
 "nbformat_minor": 5
}
