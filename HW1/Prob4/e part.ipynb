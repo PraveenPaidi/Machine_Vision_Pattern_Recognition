{
 "cells": [
  {
   "cell_type": "code",
   "execution_count": 9,
   "id": "58c81c24",
   "metadata": {},
   "outputs": [],
   "source": [
    "import numpy as np\n",
    "import cv2\n",
    "\n",
    "path= r'C:\\Users\\prave\\Downloads\\HW 1\\Prob4\\Image4.jpg'\n",
    "image= cv2.imread(path)\n",
    "grey = cv2.cvtColor(image, cv2.COLOR_BGR2GRAY)\n",
    "\n",
    "rows, cols = grey.shape\n",
    "crow, ccol = rows // 2, cols // 2  # Center of the image\n",
    "\n",
    "\n",
    "# Create a Gaussian filter\n",
    "sigma = 30  # Adjust the standard deviation as needed\n",
    "\n",
    "x =np.arange(cols) - ccol\n",
    "\n",
    "y = np.arange(rows) - crow"
   ]
  },
  {
   "cell_type": "code",
   "execution_count": 11,
   "id": "0a77fe7a",
   "metadata": {},
   "outputs": [
    {
     "name": "stdout",
     "output_type": "stream",
     "text": [
      "(684, 1024)\n"
     ]
    }
   ],
   "source": [
    "\n",
    "X, Y = np.meshgrid(x, y)\n",
    "\n",
    "print(Y.shape)\n",
    "mask = np.exp(-(X**2 + Y**2) / (2 * sigma**2))\n",
    "mask = mask / mask.max()  # Normalize to [0, 1]"
   ]
  },
  {
   "cell_type": "code",
   "execution_count": null,
   "id": "bf92dd21",
   "metadata": {},
   "outputs": [],
   "source": []
  }
 ],
 "metadata": {
  "kernelspec": {
   "display_name": "Python 3 (ipykernel)",
   "language": "python",
   "name": "python3"
  },
  "language_info": {
   "codemirror_mode": {
    "name": "ipython",
    "version": 3
   },
   "file_extension": ".py",
   "mimetype": "text/x-python",
   "name": "python",
   "nbconvert_exporter": "python",
   "pygments_lexer": "ipython3",
   "version": "3.9.13"
  }
 },
 "nbformat": 4,
 "nbformat_minor": 5
}
