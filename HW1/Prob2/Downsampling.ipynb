{
 "cells": [
  {
   "cell_type": "code",
   "execution_count": 1,
   "id": "6d211526",
   "metadata": {},
   "outputs": [
    {
     "name": "stdout",
     "output_type": "stream",
     "text": [
      "(2160, 3840, 3)\n",
      "3020544906\n",
      "2980045591\n"
     ]
    },
    {
     "data": {
      "text/plain": [
       "<Figure size 640x480 with 0 Axes>"
      ]
     },
     "metadata": {},
     "output_type": "display_data"
    }
   ],
   "source": [
    "import cv2\n",
    "from matplotlib import pyplot as plt\n",
    "import ipdb\n",
    "import numpy as np\n",
    "\n",
    "################################\n",
    "#display using plt.imshow\n",
    "path= r'C:\\Users\\prave\\Downloads\\HW 1\\Prob2\\Image.jpg'\n",
    "image= cv2.imread(path)\n",
    "# plt.imshow(image)\n",
    "plt.savefig('Imshowimage.png', bbox_inches='tight', pad_inches=0, dpi=300)\n",
    "\n",
    "\n",
    "#################################\n",
    "# display using cv2.colorbgr2rgb\n",
    "lol=cv2.cvtColor(image, cv2.COLOR_BGR2RGB)\n",
    "# plt.imshow(lol)\n",
    "plt.savefig('Imshowimagecv2bgrRGB.png', bbox_inches='tight', pad_inches=0, dpi=300)\n",
    "cv2.imwrite('popop.jpg', lol)\n",
    "\n",
    "#display using cv2.colorbgr2rgb\n",
    "l=cv2.cvtColor(image, cv2.COLOR_BGR2GRAY)\n",
    "# plt.imshow(l)\n",
    "# plt.savefig('Imshowimagecv2bgrGREY.png', bbox_inches='tight', pad_inches=0, dpi=300)\n",
    "\n",
    "######################################\n",
    "\n",
    "path= r'C:\\Users\\prave\\Downloads\\HW 1\\prob2\\Image3.jpg'\n",
    "image2= cv2.imread(path)\n",
    "print(image2.shape)\n",
    "\n",
    "\n",
    "width = 384\n",
    "height = 216 # keep original height\n",
    "dim = (width, height)\n",
    "# resize image\n",
    "downsampled = cv2.resize(image2, dim)\n",
    "cv2.imwrite('Downsamples.jpg', downsampled)\n",
    "\n",
    "#######################################\n",
    "\n",
    "width = 3840\n",
    "height = 2160 # keep original height\n",
    "dim = (width, height)\n",
    "nearest_neighbours = cv2.resize(downsampled, dim, interpolation = cv2.INTER_NEAREST)\n",
    "cv2.imwrite('Nearest_neigh.jpg', nearest_neighbours)\n",
    "cubic = cv2.resize(downsampled, dim, interpolation = cv2.INTER_CUBIC)\n",
    "cv2.imwrite('Bicubic.jpg', cubic)\n",
    "\n",
    "#######################################\n",
    "Diff_Nearest= image2 - nearest_neighbours\n",
    "Diff_Cubic = image2 - cubic\n",
    "print(np.sum(Diff_Cubic))\n",
    "print(np.sum(Diff_Nearest))\n",
    "# cv2.imwrite('Nearestneigh_diff', Diff_Nearest)\n",
    "# cv2.imwrite('Bicubic_diff', Diff_Cubic)"
   ]
  },
  {
   "cell_type": "code",
   "execution_count": 3,
   "id": "891a8fb9",
   "metadata": {},
   "outputs": [
    {
     "data": {
      "text/plain": [
       "True"
      ]
     },
     "execution_count": 3,
     "metadata": {},
     "output_type": "execute_result"
    }
   ],
   "source": [
    "cv2.imwrite('Diff nearest neighbor.jpg', Diff_Nearest)\n",
    "cv2.imwrite('Diff Cubic.jpg', Diff_Cubic)\n"
   ]
  },
  {
   "cell_type": "code",
   "execution_count": null,
   "id": "27ee6d1e",
   "metadata": {},
   "outputs": [],
   "source": []
  }
 ],
 "metadata": {
  "kernelspec": {
   "display_name": "Python 3 (ipykernel)",
   "language": "python",
   "name": "python3"
  },
  "language_info": {
   "codemirror_mode": {
    "name": "ipython",
    "version": 3
   },
   "file_extension": ".py",
   "mimetype": "text/x-python",
   "name": "python",
   "nbconvert_exporter": "python",
   "pygments_lexer": "ipython3",
   "version": "3.9.13"
  }
 },
 "nbformat": 4,
 "nbformat_minor": 5
}
